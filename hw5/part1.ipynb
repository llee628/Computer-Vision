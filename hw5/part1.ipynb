{
  "nbformat": 4,
  "nbformat_minor": 0,
  "metadata": {
    "accelerator": "GPU",
    "colab": {
      "name": "part1.ipynb",
      "provenance": [],
      "collapsed_sections": []
    },
    "kernelspec": {
      "display_name": "Python 3",
      "name": "python3"
    },
    "language_info": {
      "name": "python"
    },
    "widgets": {
      "application/vnd.jupyter.widget-state+json": {
        "828ccde3db3148879a55ba66eda9f67f": {
          "model_module": "@jupyter-widgets/controls",
          "model_name": "HBoxModel",
          "state": {
            "_view_name": "HBoxView",
            "_dom_classes": [],
            "_model_name": "HBoxModel",
            "_view_module": "@jupyter-widgets/controls",
            "_model_module_version": "1.5.0",
            "_view_count": null,
            "_view_module_version": "1.5.0",
            "box_style": "",
            "layout": "IPY_MODEL_e1a6c1263d42487696b97be56341bda2",
            "_model_module": "@jupyter-widgets/controls",
            "children": [
              "IPY_MODEL_d08d52e7d1954e43a097533c8badb00d",
              "IPY_MODEL_0e1b559d762b4c85ad5c7ba9bf1ac994"
            ]
          }
        },
        "e1a6c1263d42487696b97be56341bda2": {
          "model_module": "@jupyter-widgets/base",
          "model_name": "LayoutModel",
          "state": {
            "_view_name": "LayoutView",
            "grid_template_rows": null,
            "right": null,
            "justify_content": null,
            "_view_module": "@jupyter-widgets/base",
            "overflow": null,
            "_model_module_version": "1.2.0",
            "_view_count": null,
            "flex_flow": null,
            "width": null,
            "min_width": null,
            "border": null,
            "align_items": null,
            "bottom": null,
            "_model_module": "@jupyter-widgets/base",
            "top": null,
            "grid_column": null,
            "overflow_y": null,
            "overflow_x": null,
            "grid_auto_flow": null,
            "grid_area": null,
            "grid_template_columns": null,
            "flex": null,
            "_model_name": "LayoutModel",
            "justify_items": null,
            "grid_row": null,
            "max_height": null,
            "align_content": null,
            "visibility": null,
            "align_self": null,
            "height": null,
            "min_height": null,
            "padding": null,
            "grid_auto_rows": null,
            "grid_gap": null,
            "max_width": null,
            "order": null,
            "_view_module_version": "1.2.0",
            "grid_template_areas": null,
            "object_position": null,
            "object_fit": null,
            "grid_auto_columns": null,
            "margin": null,
            "display": null,
            "left": null
          }
        },
        "d08d52e7d1954e43a097533c8badb00d": {
          "model_module": "@jupyter-widgets/controls",
          "model_name": "FloatProgressModel",
          "state": {
            "_view_name": "ProgressView",
            "style": "IPY_MODEL_e451bc69411d448ea148fa9e7a1bdd7d",
            "_dom_classes": [],
            "description": "",
            "_model_name": "FloatProgressModel",
            "bar_style": "success",
            "max": 26421880,
            "_view_module": "@jupyter-widgets/controls",
            "_model_module_version": "1.5.0",
            "value": 26421880,
            "_view_count": null,
            "_view_module_version": "1.5.0",
            "orientation": "horizontal",
            "min": 0,
            "description_tooltip": null,
            "_model_module": "@jupyter-widgets/controls",
            "layout": "IPY_MODEL_55afd9b1538343f6a4495ce3fe894c8f"
          }
        },
        "0e1b559d762b4c85ad5c7ba9bf1ac994": {
          "model_module": "@jupyter-widgets/controls",
          "model_name": "HTMLModel",
          "state": {
            "_view_name": "HTMLView",
            "style": "IPY_MODEL_80728f41fb934cfdb513ebbe2cac17a3",
            "_dom_classes": [],
            "description": "",
            "_model_name": "HTMLModel",
            "placeholder": "​",
            "_view_module": "@jupyter-widgets/controls",
            "_model_module_version": "1.5.0",
            "value": " 26422272/? [05:28&lt;00:00, 80408.47it/s]",
            "_view_count": null,
            "_view_module_version": "1.5.0",
            "description_tooltip": null,
            "_model_module": "@jupyter-widgets/controls",
            "layout": "IPY_MODEL_e6338d3d0b154a55a64e200547fdadd6"
          }
        },
        "e451bc69411d448ea148fa9e7a1bdd7d": {
          "model_module": "@jupyter-widgets/controls",
          "model_name": "ProgressStyleModel",
          "state": {
            "_view_name": "StyleView",
            "_model_name": "ProgressStyleModel",
            "description_width": "initial",
            "_view_module": "@jupyter-widgets/base",
            "_model_module_version": "1.5.0",
            "_view_count": null,
            "_view_module_version": "1.2.0",
            "bar_color": null,
            "_model_module": "@jupyter-widgets/controls"
          }
        },
        "55afd9b1538343f6a4495ce3fe894c8f": {
          "model_module": "@jupyter-widgets/base",
          "model_name": "LayoutModel",
          "state": {
            "_view_name": "LayoutView",
            "grid_template_rows": null,
            "right": null,
            "justify_content": null,
            "_view_module": "@jupyter-widgets/base",
            "overflow": null,
            "_model_module_version": "1.2.0",
            "_view_count": null,
            "flex_flow": null,
            "width": null,
            "min_width": null,
            "border": null,
            "align_items": null,
            "bottom": null,
            "_model_module": "@jupyter-widgets/base",
            "top": null,
            "grid_column": null,
            "overflow_y": null,
            "overflow_x": null,
            "grid_auto_flow": null,
            "grid_area": null,
            "grid_template_columns": null,
            "flex": null,
            "_model_name": "LayoutModel",
            "justify_items": null,
            "grid_row": null,
            "max_height": null,
            "align_content": null,
            "visibility": null,
            "align_self": null,
            "height": null,
            "min_height": null,
            "padding": null,
            "grid_auto_rows": null,
            "grid_gap": null,
            "max_width": null,
            "order": null,
            "_view_module_version": "1.2.0",
            "grid_template_areas": null,
            "object_position": null,
            "object_fit": null,
            "grid_auto_columns": null,
            "margin": null,
            "display": null,
            "left": null
          }
        },
        "80728f41fb934cfdb513ebbe2cac17a3": {
          "model_module": "@jupyter-widgets/controls",
          "model_name": "DescriptionStyleModel",
          "state": {
            "_view_name": "StyleView",
            "_model_name": "DescriptionStyleModel",
            "description_width": "",
            "_view_module": "@jupyter-widgets/base",
            "_model_module_version": "1.5.0",
            "_view_count": null,
            "_view_module_version": "1.2.0",
            "_model_module": "@jupyter-widgets/controls"
          }
        },
        "e6338d3d0b154a55a64e200547fdadd6": {
          "model_module": "@jupyter-widgets/base",
          "model_name": "LayoutModel",
          "state": {
            "_view_name": "LayoutView",
            "grid_template_rows": null,
            "right": null,
            "justify_content": null,
            "_view_module": "@jupyter-widgets/base",
            "overflow": null,
            "_model_module_version": "1.2.0",
            "_view_count": null,
            "flex_flow": null,
            "width": null,
            "min_width": null,
            "border": null,
            "align_items": null,
            "bottom": null,
            "_model_module": "@jupyter-widgets/base",
            "top": null,
            "grid_column": null,
            "overflow_y": null,
            "overflow_x": null,
            "grid_auto_flow": null,
            "grid_area": null,
            "grid_template_columns": null,
            "flex": null,
            "_model_name": "LayoutModel",
            "justify_items": null,
            "grid_row": null,
            "max_height": null,
            "align_content": null,
            "visibility": null,
            "align_self": null,
            "height": null,
            "min_height": null,
            "padding": null,
            "grid_auto_rows": null,
            "grid_gap": null,
            "max_width": null,
            "order": null,
            "_view_module_version": "1.2.0",
            "grid_template_areas": null,
            "object_position": null,
            "object_fit": null,
            "grid_auto_columns": null,
            "margin": null,
            "display": null,
            "left": null
          }
        },
        "4a1d40555a074be893401fc012d6803e": {
          "model_module": "@jupyter-widgets/controls",
          "model_name": "HBoxModel",
          "state": {
            "_view_name": "HBoxView",
            "_dom_classes": [],
            "_model_name": "HBoxModel",
            "_view_module": "@jupyter-widgets/controls",
            "_model_module_version": "1.5.0",
            "_view_count": null,
            "_view_module_version": "1.5.0",
            "box_style": "",
            "layout": "IPY_MODEL_c1f1ddf25ded4870a4d0ee76438cf61d",
            "_model_module": "@jupyter-widgets/controls",
            "children": [
              "IPY_MODEL_78734e1aeb5b4ef6b1fbb331509d729e",
              "IPY_MODEL_f8cb688621a6481996045edacfb95293"
            ]
          }
        },
        "c1f1ddf25ded4870a4d0ee76438cf61d": {
          "model_module": "@jupyter-widgets/base",
          "model_name": "LayoutModel",
          "state": {
            "_view_name": "LayoutView",
            "grid_template_rows": null,
            "right": null,
            "justify_content": null,
            "_view_module": "@jupyter-widgets/base",
            "overflow": null,
            "_model_module_version": "1.2.0",
            "_view_count": null,
            "flex_flow": null,
            "width": null,
            "min_width": null,
            "border": null,
            "align_items": null,
            "bottom": null,
            "_model_module": "@jupyter-widgets/base",
            "top": null,
            "grid_column": null,
            "overflow_y": null,
            "overflow_x": null,
            "grid_auto_flow": null,
            "grid_area": null,
            "grid_template_columns": null,
            "flex": null,
            "_model_name": "LayoutModel",
            "justify_items": null,
            "grid_row": null,
            "max_height": null,
            "align_content": null,
            "visibility": null,
            "align_self": null,
            "height": null,
            "min_height": null,
            "padding": null,
            "grid_auto_rows": null,
            "grid_gap": null,
            "max_width": null,
            "order": null,
            "_view_module_version": "1.2.0",
            "grid_template_areas": null,
            "object_position": null,
            "object_fit": null,
            "grid_auto_columns": null,
            "margin": null,
            "display": null,
            "left": null
          }
        },
        "78734e1aeb5b4ef6b1fbb331509d729e": {
          "model_module": "@jupyter-widgets/controls",
          "model_name": "FloatProgressModel",
          "state": {
            "_view_name": "ProgressView",
            "style": "IPY_MODEL_658932ccc1eb40b69370df9543fe9207",
            "_dom_classes": [],
            "description": "",
            "_model_name": "FloatProgressModel",
            "bar_style": "success",
            "max": 29515,
            "_view_module": "@jupyter-widgets/controls",
            "_model_module_version": "1.5.0",
            "value": 29515,
            "_view_count": null,
            "_view_module_version": "1.5.0",
            "orientation": "horizontal",
            "min": 0,
            "description_tooltip": null,
            "_model_module": "@jupyter-widgets/controls",
            "layout": "IPY_MODEL_7e50f33881cc44d6a6bfa27517d276aa"
          }
        },
        "f8cb688621a6481996045edacfb95293": {
          "model_module": "@jupyter-widgets/controls",
          "model_name": "HTMLModel",
          "state": {
            "_view_name": "HTMLView",
            "style": "IPY_MODEL_562eb484c46c4207b58b1b466fb1a97d",
            "_dom_classes": [],
            "description": "",
            "_model_name": "HTMLModel",
            "placeholder": "​",
            "_view_module": "@jupyter-widgets/controls",
            "_model_module_version": "1.5.0",
            "value": " 29696/? [05:25&lt;00:00, 91.30it/s]",
            "_view_count": null,
            "_view_module_version": "1.5.0",
            "description_tooltip": null,
            "_model_module": "@jupyter-widgets/controls",
            "layout": "IPY_MODEL_ec764ad5b11345f59d0a81e944059a27"
          }
        },
        "658932ccc1eb40b69370df9543fe9207": {
          "model_module": "@jupyter-widgets/controls",
          "model_name": "ProgressStyleModel",
          "state": {
            "_view_name": "StyleView",
            "_model_name": "ProgressStyleModel",
            "description_width": "initial",
            "_view_module": "@jupyter-widgets/base",
            "_model_module_version": "1.5.0",
            "_view_count": null,
            "_view_module_version": "1.2.0",
            "bar_color": null,
            "_model_module": "@jupyter-widgets/controls"
          }
        },
        "7e50f33881cc44d6a6bfa27517d276aa": {
          "model_module": "@jupyter-widgets/base",
          "model_name": "LayoutModel",
          "state": {
            "_view_name": "LayoutView",
            "grid_template_rows": null,
            "right": null,
            "justify_content": null,
            "_view_module": "@jupyter-widgets/base",
            "overflow": null,
            "_model_module_version": "1.2.0",
            "_view_count": null,
            "flex_flow": null,
            "width": null,
            "min_width": null,
            "border": null,
            "align_items": null,
            "bottom": null,
            "_model_module": "@jupyter-widgets/base",
            "top": null,
            "grid_column": null,
            "overflow_y": null,
            "overflow_x": null,
            "grid_auto_flow": null,
            "grid_area": null,
            "grid_template_columns": null,
            "flex": null,
            "_model_name": "LayoutModel",
            "justify_items": null,
            "grid_row": null,
            "max_height": null,
            "align_content": null,
            "visibility": null,
            "align_self": null,
            "height": null,
            "min_height": null,
            "padding": null,
            "grid_auto_rows": null,
            "grid_gap": null,
            "max_width": null,
            "order": null,
            "_view_module_version": "1.2.0",
            "grid_template_areas": null,
            "object_position": null,
            "object_fit": null,
            "grid_auto_columns": null,
            "margin": null,
            "display": null,
            "left": null
          }
        },
        "562eb484c46c4207b58b1b466fb1a97d": {
          "model_module": "@jupyter-widgets/controls",
          "model_name": "DescriptionStyleModel",
          "state": {
            "_view_name": "StyleView",
            "_model_name": "DescriptionStyleModel",
            "description_width": "",
            "_view_module": "@jupyter-widgets/base",
            "_model_module_version": "1.5.0",
            "_view_count": null,
            "_view_module_version": "1.2.0",
            "_model_module": "@jupyter-widgets/controls"
          }
        },
        "ec764ad5b11345f59d0a81e944059a27": {
          "model_module": "@jupyter-widgets/base",
          "model_name": "LayoutModel",
          "state": {
            "_view_name": "LayoutView",
            "grid_template_rows": null,
            "right": null,
            "justify_content": null,
            "_view_module": "@jupyter-widgets/base",
            "overflow": null,
            "_model_module_version": "1.2.0",
            "_view_count": null,
            "flex_flow": null,
            "width": null,
            "min_width": null,
            "border": null,
            "align_items": null,
            "bottom": null,
            "_model_module": "@jupyter-widgets/base",
            "top": null,
            "grid_column": null,
            "overflow_y": null,
            "overflow_x": null,
            "grid_auto_flow": null,
            "grid_area": null,
            "grid_template_columns": null,
            "flex": null,
            "_model_name": "LayoutModel",
            "justify_items": null,
            "grid_row": null,
            "max_height": null,
            "align_content": null,
            "visibility": null,
            "align_self": null,
            "height": null,
            "min_height": null,
            "padding": null,
            "grid_auto_rows": null,
            "grid_gap": null,
            "max_width": null,
            "order": null,
            "_view_module_version": "1.2.0",
            "grid_template_areas": null,
            "object_position": null,
            "object_fit": null,
            "grid_auto_columns": null,
            "margin": null,
            "display": null,
            "left": null
          }
        },
        "ee868448a9754641a83bb111097ca3f5": {
          "model_module": "@jupyter-widgets/controls",
          "model_name": "HBoxModel",
          "state": {
            "_view_name": "HBoxView",
            "_dom_classes": [],
            "_model_name": "HBoxModel",
            "_view_module": "@jupyter-widgets/controls",
            "_model_module_version": "1.5.0",
            "_view_count": null,
            "_view_module_version": "1.5.0",
            "box_style": "",
            "layout": "IPY_MODEL_989d48da4a354a2ab334ccf71002cd92",
            "_model_module": "@jupyter-widgets/controls",
            "children": [
              "IPY_MODEL_9a8c31c736f94f93b36431ab158f9987",
              "IPY_MODEL_580af03a9ff64fceadeac7d6312644ff"
            ]
          }
        },
        "989d48da4a354a2ab334ccf71002cd92": {
          "model_module": "@jupyter-widgets/base",
          "model_name": "LayoutModel",
          "state": {
            "_view_name": "LayoutView",
            "grid_template_rows": null,
            "right": null,
            "justify_content": null,
            "_view_module": "@jupyter-widgets/base",
            "overflow": null,
            "_model_module_version": "1.2.0",
            "_view_count": null,
            "flex_flow": null,
            "width": null,
            "min_width": null,
            "border": null,
            "align_items": null,
            "bottom": null,
            "_model_module": "@jupyter-widgets/base",
            "top": null,
            "grid_column": null,
            "overflow_y": null,
            "overflow_x": null,
            "grid_auto_flow": null,
            "grid_area": null,
            "grid_template_columns": null,
            "flex": null,
            "_model_name": "LayoutModel",
            "justify_items": null,
            "grid_row": null,
            "max_height": null,
            "align_content": null,
            "visibility": null,
            "align_self": null,
            "height": null,
            "min_height": null,
            "padding": null,
            "grid_auto_rows": null,
            "grid_gap": null,
            "max_width": null,
            "order": null,
            "_view_module_version": "1.2.0",
            "grid_template_areas": null,
            "object_position": null,
            "object_fit": null,
            "grid_auto_columns": null,
            "margin": null,
            "display": null,
            "left": null
          }
        },
        "9a8c31c736f94f93b36431ab158f9987": {
          "model_module": "@jupyter-widgets/controls",
          "model_name": "FloatProgressModel",
          "state": {
            "_view_name": "ProgressView",
            "style": "IPY_MODEL_db6bcc072c7945f69e6858eecc6cb740",
            "_dom_classes": [],
            "description": "",
            "_model_name": "FloatProgressModel",
            "bar_style": "success",
            "max": 4422102,
            "_view_module": "@jupyter-widgets/controls",
            "_model_module_version": "1.5.0",
            "value": 4422102,
            "_view_count": null,
            "_view_module_version": "1.5.0",
            "orientation": "horizontal",
            "min": 0,
            "description_tooltip": null,
            "_model_module": "@jupyter-widgets/controls",
            "layout": "IPY_MODEL_d267477a0a5d45db834b6a2df287a693"
          }
        },
        "580af03a9ff64fceadeac7d6312644ff": {
          "model_module": "@jupyter-widgets/controls",
          "model_name": "HTMLModel",
          "state": {
            "_view_name": "HTMLView",
            "style": "IPY_MODEL_632a165d1971442d83e377031524e2be",
            "_dom_classes": [],
            "description": "",
            "_model_name": "HTMLModel",
            "placeholder": "​",
            "_view_module": "@jupyter-widgets/controls",
            "_model_module_version": "1.5.0",
            "value": " 4422656/? [00:20&lt;00:00, 216592.36it/s]",
            "_view_count": null,
            "_view_module_version": "1.5.0",
            "description_tooltip": null,
            "_model_module": "@jupyter-widgets/controls",
            "layout": "IPY_MODEL_2f3065d81ab84adeb1e1213d1248d179"
          }
        },
        "db6bcc072c7945f69e6858eecc6cb740": {
          "model_module": "@jupyter-widgets/controls",
          "model_name": "ProgressStyleModel",
          "state": {
            "_view_name": "StyleView",
            "_model_name": "ProgressStyleModel",
            "description_width": "initial",
            "_view_module": "@jupyter-widgets/base",
            "_model_module_version": "1.5.0",
            "_view_count": null,
            "_view_module_version": "1.2.0",
            "bar_color": null,
            "_model_module": "@jupyter-widgets/controls"
          }
        },
        "d267477a0a5d45db834b6a2df287a693": {
          "model_module": "@jupyter-widgets/base",
          "model_name": "LayoutModel",
          "state": {
            "_view_name": "LayoutView",
            "grid_template_rows": null,
            "right": null,
            "justify_content": null,
            "_view_module": "@jupyter-widgets/base",
            "overflow": null,
            "_model_module_version": "1.2.0",
            "_view_count": null,
            "flex_flow": null,
            "width": null,
            "min_width": null,
            "border": null,
            "align_items": null,
            "bottom": null,
            "_model_module": "@jupyter-widgets/base",
            "top": null,
            "grid_column": null,
            "overflow_y": null,
            "overflow_x": null,
            "grid_auto_flow": null,
            "grid_area": null,
            "grid_template_columns": null,
            "flex": null,
            "_model_name": "LayoutModel",
            "justify_items": null,
            "grid_row": null,
            "max_height": null,
            "align_content": null,
            "visibility": null,
            "align_self": null,
            "height": null,
            "min_height": null,
            "padding": null,
            "grid_auto_rows": null,
            "grid_gap": null,
            "max_width": null,
            "order": null,
            "_view_module_version": "1.2.0",
            "grid_template_areas": null,
            "object_position": null,
            "object_fit": null,
            "grid_auto_columns": null,
            "margin": null,
            "display": null,
            "left": null
          }
        },
        "632a165d1971442d83e377031524e2be": {
          "model_module": "@jupyter-widgets/controls",
          "model_name": "DescriptionStyleModel",
          "state": {
            "_view_name": "StyleView",
            "_model_name": "DescriptionStyleModel",
            "description_width": "",
            "_view_module": "@jupyter-widgets/base",
            "_model_module_version": "1.5.0",
            "_view_count": null,
            "_view_module_version": "1.2.0",
            "_model_module": "@jupyter-widgets/controls"
          }
        },
        "2f3065d81ab84adeb1e1213d1248d179": {
          "model_module": "@jupyter-widgets/base",
          "model_name": "LayoutModel",
          "state": {
            "_view_name": "LayoutView",
            "grid_template_rows": null,
            "right": null,
            "justify_content": null,
            "_view_module": "@jupyter-widgets/base",
            "overflow": null,
            "_model_module_version": "1.2.0",
            "_view_count": null,
            "flex_flow": null,
            "width": null,
            "min_width": null,
            "border": null,
            "align_items": null,
            "bottom": null,
            "_model_module": "@jupyter-widgets/base",
            "top": null,
            "grid_column": null,
            "overflow_y": null,
            "overflow_x": null,
            "grid_auto_flow": null,
            "grid_area": null,
            "grid_template_columns": null,
            "flex": null,
            "_model_name": "LayoutModel",
            "justify_items": null,
            "grid_row": null,
            "max_height": null,
            "align_content": null,
            "visibility": null,
            "align_self": null,
            "height": null,
            "min_height": null,
            "padding": null,
            "grid_auto_rows": null,
            "grid_gap": null,
            "max_width": null,
            "order": null,
            "_view_module_version": "1.2.0",
            "grid_template_areas": null,
            "object_position": null,
            "object_fit": null,
            "grid_auto_columns": null,
            "margin": null,
            "display": null,
            "left": null
          }
        },
        "531d204f21cd495f943e8053f88b7935": {
          "model_module": "@jupyter-widgets/controls",
          "model_name": "HBoxModel",
          "state": {
            "_view_name": "HBoxView",
            "_dom_classes": [],
            "_model_name": "HBoxModel",
            "_view_module": "@jupyter-widgets/controls",
            "_model_module_version": "1.5.0",
            "_view_count": null,
            "_view_module_version": "1.5.0",
            "box_style": "",
            "layout": "IPY_MODEL_a9db6b924ced4186a8674e259acd0a4c",
            "_model_module": "@jupyter-widgets/controls",
            "children": [
              "IPY_MODEL_7ca387aafa4c4584be5c17a2e0539b61",
              "IPY_MODEL_aa8169ac64fa424eaca356f15b25ed3c"
            ]
          }
        },
        "a9db6b924ced4186a8674e259acd0a4c": {
          "model_module": "@jupyter-widgets/base",
          "model_name": "LayoutModel",
          "state": {
            "_view_name": "LayoutView",
            "grid_template_rows": null,
            "right": null,
            "justify_content": null,
            "_view_module": "@jupyter-widgets/base",
            "overflow": null,
            "_model_module_version": "1.2.0",
            "_view_count": null,
            "flex_flow": null,
            "width": null,
            "min_width": null,
            "border": null,
            "align_items": null,
            "bottom": null,
            "_model_module": "@jupyter-widgets/base",
            "top": null,
            "grid_column": null,
            "overflow_y": null,
            "overflow_x": null,
            "grid_auto_flow": null,
            "grid_area": null,
            "grid_template_columns": null,
            "flex": null,
            "_model_name": "LayoutModel",
            "justify_items": null,
            "grid_row": null,
            "max_height": null,
            "align_content": null,
            "visibility": null,
            "align_self": null,
            "height": null,
            "min_height": null,
            "padding": null,
            "grid_auto_rows": null,
            "grid_gap": null,
            "max_width": null,
            "order": null,
            "_view_module_version": "1.2.0",
            "grid_template_areas": null,
            "object_position": null,
            "object_fit": null,
            "grid_auto_columns": null,
            "margin": null,
            "display": null,
            "left": null
          }
        },
        "7ca387aafa4c4584be5c17a2e0539b61": {
          "model_module": "@jupyter-widgets/controls",
          "model_name": "FloatProgressModel",
          "state": {
            "_view_name": "ProgressView",
            "style": "IPY_MODEL_513d76e9873147d088dd6f8f1066b428",
            "_dom_classes": [],
            "description": "",
            "_model_name": "FloatProgressModel",
            "bar_style": "success",
            "max": 5148,
            "_view_module": "@jupyter-widgets/controls",
            "_model_module_version": "1.5.0",
            "value": 5148,
            "_view_count": null,
            "_view_module_version": "1.5.0",
            "orientation": "horizontal",
            "min": 0,
            "description_tooltip": null,
            "_model_module": "@jupyter-widgets/controls",
            "layout": "IPY_MODEL_2b8b0d373f7c4d2b9c2fc0a228fcd889"
          }
        },
        "aa8169ac64fa424eaca356f15b25ed3c": {
          "model_module": "@jupyter-widgets/controls",
          "model_name": "HTMLModel",
          "state": {
            "_view_name": "HTMLView",
            "style": "IPY_MODEL_53fac46af8e94484a77e991ef420210b",
            "_dom_classes": [],
            "description": "",
            "_model_name": "HTMLModel",
            "placeholder": "​",
            "_view_module": "@jupyter-widgets/controls",
            "_model_module_version": "1.5.0",
            "value": " 6144/? [00:18&lt;00:00, 330.39it/s]",
            "_view_count": null,
            "_view_module_version": "1.5.0",
            "description_tooltip": null,
            "_model_module": "@jupyter-widgets/controls",
            "layout": "IPY_MODEL_5102184c2c404ebcb6c81d2f6816d6ab"
          }
        },
        "513d76e9873147d088dd6f8f1066b428": {
          "model_module": "@jupyter-widgets/controls",
          "model_name": "ProgressStyleModel",
          "state": {
            "_view_name": "StyleView",
            "_model_name": "ProgressStyleModel",
            "description_width": "initial",
            "_view_module": "@jupyter-widgets/base",
            "_model_module_version": "1.5.0",
            "_view_count": null,
            "_view_module_version": "1.2.0",
            "bar_color": null,
            "_model_module": "@jupyter-widgets/controls"
          }
        },
        "2b8b0d373f7c4d2b9c2fc0a228fcd889": {
          "model_module": "@jupyter-widgets/base",
          "model_name": "LayoutModel",
          "state": {
            "_view_name": "LayoutView",
            "grid_template_rows": null,
            "right": null,
            "justify_content": null,
            "_view_module": "@jupyter-widgets/base",
            "overflow": null,
            "_model_module_version": "1.2.0",
            "_view_count": null,
            "flex_flow": null,
            "width": null,
            "min_width": null,
            "border": null,
            "align_items": null,
            "bottom": null,
            "_model_module": "@jupyter-widgets/base",
            "top": null,
            "grid_column": null,
            "overflow_y": null,
            "overflow_x": null,
            "grid_auto_flow": null,
            "grid_area": null,
            "grid_template_columns": null,
            "flex": null,
            "_model_name": "LayoutModel",
            "justify_items": null,
            "grid_row": null,
            "max_height": null,
            "align_content": null,
            "visibility": null,
            "align_self": null,
            "height": null,
            "min_height": null,
            "padding": null,
            "grid_auto_rows": null,
            "grid_gap": null,
            "max_width": null,
            "order": null,
            "_view_module_version": "1.2.0",
            "grid_template_areas": null,
            "object_position": null,
            "object_fit": null,
            "grid_auto_columns": null,
            "margin": null,
            "display": null,
            "left": null
          }
        },
        "53fac46af8e94484a77e991ef420210b": {
          "model_module": "@jupyter-widgets/controls",
          "model_name": "DescriptionStyleModel",
          "state": {
            "_view_name": "StyleView",
            "_model_name": "DescriptionStyleModel",
            "description_width": "",
            "_view_module": "@jupyter-widgets/base",
            "_model_module_version": "1.5.0",
            "_view_count": null,
            "_view_module_version": "1.2.0",
            "_model_module": "@jupyter-widgets/controls"
          }
        },
        "5102184c2c404ebcb6c81d2f6816d6ab": {
          "model_module": "@jupyter-widgets/base",
          "model_name": "LayoutModel",
          "state": {
            "_view_name": "LayoutView",
            "grid_template_rows": null,
            "right": null,
            "justify_content": null,
            "_view_module": "@jupyter-widgets/base",
            "overflow": null,
            "_model_module_version": "1.2.0",
            "_view_count": null,
            "flex_flow": null,
            "width": null,
            "min_width": null,
            "border": null,
            "align_items": null,
            "bottom": null,
            "_model_module": "@jupyter-widgets/base",
            "top": null,
            "grid_column": null,
            "overflow_y": null,
            "overflow_x": null,
            "grid_auto_flow": null,
            "grid_area": null,
            "grid_template_columns": null,
            "flex": null,
            "_model_name": "LayoutModel",
            "justify_items": null,
            "grid_row": null,
            "max_height": null,
            "align_content": null,
            "visibility": null,
            "align_self": null,
            "height": null,
            "min_height": null,
            "padding": null,
            "grid_auto_rows": null,
            "grid_gap": null,
            "max_width": null,
            "order": null,
            "_view_module_version": "1.2.0",
            "grid_template_areas": null,
            "object_position": null,
            "object_fit": null,
            "grid_auto_columns": null,
            "margin": null,
            "display": null,
            "left": null
          }
        }
      }
    }
  },
  "cells": [
    {
      "cell_type": "markdown",
      "metadata": {
        "id": "t84tK2fjAGux"
      },
      "source": [
        "# EECS 442 Assignment 5(1): Fashion-MNIST Classification\n",
        "In this part, you will implement and train Convolutional Neural Networks (ConvNets) in PyTorch to classify images. Unlike HW4, backpropagation is automatically inferred by PyTorch, so you only need to write code for the forward pass.\n",
        "\n",
        "Before we start, please put your name and UMID in following format\n",
        "\n",
        ": Firstname LASTNAME, #00000000   //   e.g.) Justin JOHNSON, #12345678"
      ]
    },
    {
      "cell_type": "markdown",
      "metadata": {
        "id": "3Zc0gjHQAGPs"
      },
      "source": [
        "**Your Answer:**   \n",
        "Leo Lee, #02047414"
      ]
    },
    {
      "cell_type": "markdown",
      "metadata": {
        "id": "b8zMyTMC0VDm"
      },
      "source": [
        "## Setup"
      ]
    },
    {
      "cell_type": "code",
      "metadata": {
        "id": "mc2dzDlI_-6x"
      },
      "source": [
        "import numpy as np\n",
        "import matplotlib.pyplot as plt\n",
        "from tqdm import tqdm # Displays a progress bar\n",
        "\n",
        "import torch\n",
        "from torch import nn\n",
        "from torch import optim\n",
        "import torch.nn.functional as F\n",
        "from torchsummary import summary\n",
        "from torchvision import datasets, transforms\n",
        "from torch.utils.data import Dataset, Subset, DataLoader, random_split"
      ],
      "execution_count": 1,
      "outputs": []
    },
    {
      "cell_type": "code",
      "metadata": {
        "id": "WvC_h1RpCuXN",
        "colab": {
          "base_uri": "https://localhost:8080/"
        },
        "outputId": "9cd4b05c-184c-4355-9644-0fb2253be904"
      },
      "source": [
        "if torch.cuda.is_available():\n",
        "    print(\"Using the GPU. You are good to go!\")\n",
        "    device = torch.device('cuda:0')\n",
        "else:\n",
        "    raise Exception(\"WARNING: Could not find GPU! Using CPU only. \\\n",
        "To enable GPU, please to go Edit > Notebook Settings > Hardware \\\n",
        "Accelerator and select GPU.\")"
      ],
      "execution_count": 2,
      "outputs": [
        {
          "output_type": "stream",
          "text": [
            "Using the GPU. You are good to go!\n"
          ],
          "name": "stdout"
        }
      ]
    },
    {
      "cell_type": "markdown",
      "metadata": {
        "id": "ZMKs1--aAe9c"
      },
      "source": [
        "## Loading Dataset\n",
        "The dataset we use is Fashion-MNIST dataset, which is available at https://github.com/zalandoresearch/fashion-mnist and in torchvision.datasets. Fashion-MNIST has 10 classes, 60000 training+validation images (we have splitted it to have 50000 training images and 10000 validation images, but you can change the numbers), and 10000 test images."
      ]
    },
    {
      "cell_type": "code",
      "metadata": {
        "id": "Tbwq9R1cAbnc",
        "colab": {
          "base_uri": "https://localhost:8080/",
          "height": 607,
          "referenced_widgets": [
            "828ccde3db3148879a55ba66eda9f67f",
            "e1a6c1263d42487696b97be56341bda2",
            "d08d52e7d1954e43a097533c8badb00d",
            "0e1b559d762b4c85ad5c7ba9bf1ac994",
            "e451bc69411d448ea148fa9e7a1bdd7d",
            "55afd9b1538343f6a4495ce3fe894c8f",
            "80728f41fb934cfdb513ebbe2cac17a3",
            "e6338d3d0b154a55a64e200547fdadd6",
            "4a1d40555a074be893401fc012d6803e",
            "c1f1ddf25ded4870a4d0ee76438cf61d",
            "78734e1aeb5b4ef6b1fbb331509d729e",
            "f8cb688621a6481996045edacfb95293",
            "658932ccc1eb40b69370df9543fe9207",
            "7e50f33881cc44d6a6bfa27517d276aa",
            "562eb484c46c4207b58b1b466fb1a97d",
            "ec764ad5b11345f59d0a81e944059a27",
            "ee868448a9754641a83bb111097ca3f5",
            "989d48da4a354a2ab334ccf71002cd92",
            "9a8c31c736f94f93b36431ab158f9987",
            "580af03a9ff64fceadeac7d6312644ff",
            "db6bcc072c7945f69e6858eecc6cb740",
            "d267477a0a5d45db834b6a2df287a693",
            "632a165d1971442d83e377031524e2be",
            "2f3065d81ab84adeb1e1213d1248d179",
            "531d204f21cd495f943e8053f88b7935",
            "a9db6b924ced4186a8674e259acd0a4c",
            "7ca387aafa4c4584be5c17a2e0539b61",
            "aa8169ac64fa424eaca356f15b25ed3c",
            "513d76e9873147d088dd6f8f1066b428",
            "2b8b0d373f7c4d2b9c2fc0a228fcd889",
            "53fac46af8e94484a77e991ef420210b",
            "5102184c2c404ebcb6c81d2f6816d6ab"
          ]
        },
        "outputId": "4cda582e-6ca8-4185-8f07-769fa60c813a"
      },
      "source": [
        "# Load the dataset and train, val, test splits\n",
        "print(\"Loading datasets...\")\n",
        "# Transform from [0,255] uint8 to [0,1] float,\n",
        "# then normalize to zero mean and unit variance\n",
        "FASHION_transform = transforms.Compose([\n",
        "                        transforms.ToTensor(),\n",
        "                        transforms.Normalize([0.2859], [0.3530]) \n",
        "                    ])\n",
        "FASHION_trainval = datasets.FashionMNIST('.', download=True, train=True,\n",
        "                                         transform=FASHION_transform)\n",
        "FASHION_train = Subset(FASHION_trainval, range(50000))\n",
        "FASHION_val = Subset(FASHION_trainval, range(50000, 60000))\n",
        "FASHION_test = datasets.FashionMNIST('.', download=True, train=False,\n",
        "                                     transform=FASHION_transform)\n",
        "print(\"Done!\")"
      ],
      "execution_count": 3,
      "outputs": [
        {
          "output_type": "stream",
          "text": [
            "Loading datasets...\n",
            "Downloading http://fashion-mnist.s3-website.eu-central-1.amazonaws.com/train-images-idx3-ubyte.gz\n",
            "Downloading http://fashion-mnist.s3-website.eu-central-1.amazonaws.com/train-images-idx3-ubyte.gz to ./FashionMNIST/raw/train-images-idx3-ubyte.gz\n"
          ],
          "name": "stdout"
        },
        {
          "output_type": "display_data",
          "data": {
            "application/vnd.jupyter.widget-view+json": {
              "model_id": "828ccde3db3148879a55ba66eda9f67f",
              "version_minor": 0,
              "version_major": 2
            },
            "text/plain": [
              "HBox(children=(FloatProgress(value=0.0, max=26421880.0), HTML(value='')))"
            ]
          },
          "metadata": {
            "tags": []
          }
        },
        {
          "output_type": "stream",
          "text": [
            "\n",
            "Extracting ./FashionMNIST/raw/train-images-idx3-ubyte.gz to ./FashionMNIST/raw\n",
            "\n",
            "Downloading http://fashion-mnist.s3-website.eu-central-1.amazonaws.com/train-labels-idx1-ubyte.gz\n",
            "Downloading http://fashion-mnist.s3-website.eu-central-1.amazonaws.com/train-labels-idx1-ubyte.gz to ./FashionMNIST/raw/train-labels-idx1-ubyte.gz\n"
          ],
          "name": "stdout"
        },
        {
          "output_type": "display_data",
          "data": {
            "application/vnd.jupyter.widget-view+json": {
              "model_id": "4a1d40555a074be893401fc012d6803e",
              "version_minor": 0,
              "version_major": 2
            },
            "text/plain": [
              "HBox(children=(FloatProgress(value=0.0, max=29515.0), HTML(value='')))"
            ]
          },
          "metadata": {
            "tags": []
          }
        },
        {
          "output_type": "stream",
          "text": [
            "\n",
            "Extracting ./FashionMNIST/raw/train-labels-idx1-ubyte.gz to ./FashionMNIST/raw\n",
            "\n",
            "Downloading http://fashion-mnist.s3-website.eu-central-1.amazonaws.com/t10k-images-idx3-ubyte.gz\n",
            "Downloading http://fashion-mnist.s3-website.eu-central-1.amazonaws.com/t10k-images-idx3-ubyte.gz to ./FashionMNIST/raw/t10k-images-idx3-ubyte.gz\n"
          ],
          "name": "stdout"
        },
        {
          "output_type": "display_data",
          "data": {
            "application/vnd.jupyter.widget-view+json": {
              "model_id": "ee868448a9754641a83bb111097ca3f5",
              "version_minor": 0,
              "version_major": 2
            },
            "text/plain": [
              "HBox(children=(FloatProgress(value=0.0, max=4422102.0), HTML(value='')))"
            ]
          },
          "metadata": {
            "tags": []
          }
        },
        {
          "output_type": "stream",
          "text": [
            "\n",
            "Extracting ./FashionMNIST/raw/t10k-images-idx3-ubyte.gz to ./FashionMNIST/raw\n",
            "\n",
            "Downloading http://fashion-mnist.s3-website.eu-central-1.amazonaws.com/t10k-labels-idx1-ubyte.gz\n",
            "Downloading http://fashion-mnist.s3-website.eu-central-1.amazonaws.com/t10k-labels-idx1-ubyte.gz to ./FashionMNIST/raw/t10k-labels-idx1-ubyte.gz\n"
          ],
          "name": "stdout"
        },
        {
          "output_type": "display_data",
          "data": {
            "application/vnd.jupyter.widget-view+json": {
              "model_id": "531d204f21cd495f943e8053f88b7935",
              "version_minor": 0,
              "version_major": 2
            },
            "text/plain": [
              "HBox(children=(FloatProgress(value=0.0, max=5148.0), HTML(value='')))"
            ]
          },
          "metadata": {
            "tags": []
          }
        },
        {
          "output_type": "stream",
          "text": [
            "\n",
            "Extracting ./FashionMNIST/raw/t10k-labels-idx1-ubyte.gz to ./FashionMNIST/raw\n",
            "\n",
            "Processing...\n",
            "Done!\n",
            "Done!\n"
          ],
          "name": "stdout"
        },
        {
          "output_type": "stream",
          "text": [
            "/usr/local/lib/python3.7/dist-packages/torchvision/datasets/mnist.py:502: UserWarning: The given NumPy array is not writeable, and PyTorch does not support non-writeable tensors. This means you can write to the underlying (supposedly non-writeable) NumPy array using the tensor. You may want to copy the array to protect its data or make it writeable before converting it to a tensor. This type of warning will be suppressed for the rest of this program. (Triggered internally at  /pytorch/torch/csrc/utils/tensor_numpy.cpp:143.)\n",
            "  return torch.from_numpy(parsed.astype(m[2], copy=False)).view(*s)\n"
          ],
          "name": "stderr"
        }
      ]
    },
    {
      "cell_type": "markdown",
      "metadata": {
        "id": "Gqji7Q3XCIcY"
      },
      "source": [
        "Now, we will create the dataloder for train, val and test dataset. You are free to experiment with different batch sizes."
      ]
    },
    {
      "cell_type": "code",
      "metadata": {
        "id": "Y0KyRJWGCCgb"
      },
      "source": [
        "# Create dataloaders\n",
        "##############################################################################\n",
        "# TODO: Experiment with different batch sizes                                #\n",
        "##############################################################################\n",
        "trainloader = DataLoader(FASHION_train, batch_size=32, shuffle=True)\n",
        "valloader = DataLoader(FASHION_val, batch_size=32, shuffle=True)\n",
        "testloader = DataLoader(FASHION_test, batch_size=32, shuffle=True)\n",
        "##############################################################################\n",
        "#                             END OF YOUR CODE                               #\n",
        "##############################################################################"
      ],
      "execution_count": 4,
      "outputs": []
    },
    {
      "cell_type": "markdown",
      "metadata": {
        "id": "f6rcDO7VCQ_q"
      },
      "source": [
        "## Model\n",
        "Initialize your model and experiment with with different optimizers, parameters (such as learning rate) and number of epochs."
      ]
    },
    {
      "cell_type": "code",
      "metadata": {
        "id": "Hz0BSR9xCNiX",
        "colab": {
          "base_uri": "https://localhost:8080/"
        },
        "outputId": "96ed8c33-4839-484b-e214-7bdf63514aa3"
      },
      "source": [
        "class Network(nn.Module):\n",
        "  def __init__(self):\n",
        "    super().__init__()\n",
        "    ##############################################################################\n",
        "    # TODO: Design your own network, define layers here.                          #\n",
        "    # Here We provide a sample of two-layer fc network from HW4 Part3.           #\n",
        "    # Your solution, however, should contain convolutional layers.               #\n",
        "    # Refer to PyTorch documentations of torch.nn to pick your layers.           #\n",
        "    # (https://pytorch.org/docs/stable/nn.html)                                  #\n",
        "    # Some common choices: Linear, Conv2d, ReLU, MaxPool2d, AvgPool2d, Dropout   #\n",
        "    # If you have many layers, use nn.Sequential() to simplify your code         #\n",
        "    ##############################################################################\n",
        "    \n",
        "    ##Lenet-5\n",
        "    self.conv2d1 = nn.Conv2d(1, 20, 5, stride=1, padding=2)\n",
        "    #self.relu1 = nn.ReLU()\n",
        "    self.maxpool1 = nn.MaxPool2d(2, stride=2)\n",
        "    self.conv2d2 = nn.Conv2d(20, 50, 5, stride=1, padding=2)\n",
        "    #self.relu2 = nn.ReLU()\n",
        "    self.maxpool2 = nn.MaxPool2d(2, stride=2)\n",
        "\n",
        "    self.fc1 = nn.Linear(50*7*7, 500)\n",
        "    self.fc2 = nn.Linear(500,10)\n",
        "\n",
        "\n",
        "\n",
        "    # from 28x28 input image to hidden layer of size 256\n",
        "    #self.fc1 = nn.Linear(28*28, 8) \n",
        "    # from hidden layer to 10 class scores\n",
        "    #self.fc2 = nn.Linear(8,10) \n",
        "    ##############################################################################\n",
        "    #                             END OF YOUR CODE                               #\n",
        "    ##############################################################################\n",
        "  \n",
        "  def forward(self,x):\n",
        "    ##############################################################################\n",
        "    # TODO: Design your own network, implement forward pass here                 # \n",
        "    ##############################################################################\n",
        "    relu = nn.ReLU()\n",
        "\n",
        "    x = self.conv2d1(x)\n",
        "    x = relu(x)\n",
        "    x = self.maxpool1(x)\n",
        "    x = self.conv2d2(x)\n",
        "    x = relu(x)\n",
        "    x = self.maxpool2(x)\n",
        "    x = x.view(-1, 50*7*7)  #flatten\n",
        "    x = self.fc1(x)\n",
        "    x = relu(x)\n",
        "    x = self.fc2(x)\n",
        "\n",
        "\n",
        "    # # Flatten each image in the batch\n",
        "    # x = x.view(-1,28*28) \n",
        "    # x = self.fc1(x)\n",
        "    # # No need to define self.relu because it contains no parameters\n",
        "    # relu = nn.ReLU() \n",
        "    # x = relu(x)\n",
        "    # x = self.fc2(x)\n",
        "    # # The loss layer will be applied outside Network class\n",
        "    return x\n",
        "    ##############################################################################\n",
        "    #                             END OF YOUR CODE                               #\n",
        "    ##############################################################################\n",
        "\n",
        "model = Network().to(device)\n",
        "criterion = nn.CrossEntropyLoss() # Specify the loss layer\n",
        "print('Your network:')\n",
        "print(summary(model, (1,28,28))) # visualize your model\n",
        "\n",
        "##############################################################################\n",
        "# TODO: Modify the lines below to experiment with different optimizers,      #\n",
        "# parameters (such as learning rate) and number of epochs.                   #\n",
        "##############################################################################\n",
        "# Set up optimization hyperparameters\n",
        "learning_rate = 1e-2\n",
        "weight_decay = 1e-4\n",
        "num_epoch = 12  # TODO: Choose an appropriate number of training epochs\n",
        "# optimizer = optim.Adam(model.parameters(), lr=learning_rate,\n",
        "#                        weight_decay=weight_decay)\n",
        "optimizer = optim.SGD(model.parameters(), lr=learning_rate, \n",
        "                      weight_decay=weight_decay)\n",
        "##############################################################################\n",
        "#                             END OF YOUR CODE                               #\n",
        "##############################################################################"
      ],
      "execution_count": 5,
      "outputs": [
        {
          "output_type": "stream",
          "text": [
            "Your network:\n",
            "----------------------------------------------------------------\n",
            "        Layer (type)               Output Shape         Param #\n",
            "================================================================\n",
            "            Conv2d-1           [-1, 20, 28, 28]             520\n",
            "         MaxPool2d-2           [-1, 20, 14, 14]               0\n",
            "            Conv2d-3           [-1, 50, 14, 14]          25,050\n",
            "         MaxPool2d-4             [-1, 50, 7, 7]               0\n",
            "            Linear-5                  [-1, 500]       1,225,500\n",
            "            Linear-6                   [-1, 10]           5,010\n",
            "================================================================\n",
            "Total params: 1,256,080\n",
            "Trainable params: 1,256,080\n",
            "Non-trainable params: 0\n",
            "----------------------------------------------------------------\n",
            "Input size (MB): 0.00\n",
            "Forward/backward pass size (MB): 0.25\n",
            "Params size (MB): 4.79\n",
            "Estimated Total Size (MB): 5.04\n",
            "----------------------------------------------------------------\n",
            "None\n"
          ],
          "name": "stdout"
        }
      ]
    },
    {
      "cell_type": "markdown",
      "metadata": {
        "id": "xq9fTZiuDJ3I"
      },
      "source": [
        "Run the cell below to start your training, we expect you to achieve over **85%** on the test set."
      ]
    },
    {
      "cell_type": "code",
      "metadata": {
        "id": "hOFaEvBDDHzQ",
        "colab": {
          "base_uri": "https://localhost:8080/"
        },
        "outputId": "6fba0295-3651-4b9f-b298-0875db02b348"
      },
      "source": [
        "%%time\n",
        "def train(model, trainloader, valloader, num_epoch = 10): # Train the model\n",
        "  print(\"Start training...\")\n",
        "  trn_loss_hist = []\n",
        "  trn_acc_hist = []\n",
        "  val_acc_hist = []\n",
        "  model.train() # Set the model to training mode\n",
        "  for i in range(num_epoch):\n",
        "    running_loss = []\n",
        "    print('-----------------Epoch = %d-----------------' % (i+1))\n",
        "    for batch, label in tqdm(trainloader):\n",
        "      batch = batch.to(device)\n",
        "      label = label.to(device)\n",
        "      optimizer.zero_grad() # Clear gradients from the previous iteration\n",
        "      pred = model(batch) # This will call Network.forward() that you implement\n",
        "      loss = criterion(pred, label) # Calculate the loss\n",
        "      running_loss.append(loss.item())\n",
        "      loss.backward() # Backprop gradients to all tensors in the network\n",
        "      optimizer.step() # Update trainable weights\n",
        "    print(\"\\n Epoch {} loss:{}\".format(i+1,np.mean(running_loss)))\n",
        "\n",
        "    # Keep track of training loss, accuracy, and validation loss\n",
        "    trn_loss_hist.append(np.mean(running_loss))\n",
        "    trn_acc_hist.append(evaluate(model, trainloader))\n",
        "    print(\"\\n Evaluate on validation set...\")\n",
        "    val_acc_hist.append(evaluate(model, valloader))\n",
        "  print(\"Done!\")\n",
        "  return trn_loss_hist, trn_acc_hist, val_acc_hist\n",
        "\n",
        "def evaluate(model, loader): # Evaluate accuracy on validation / test set\n",
        "  model.eval() # Set the model to evaluation mode\n",
        "  correct = 0\n",
        "  with torch.no_grad(): # Do not calculate grident to speed up computation\n",
        "    for batch, label in tqdm(loader):\n",
        "      batch = batch.to(device)\n",
        "      label = label.to(device)\n",
        "      pred = model(batch)\n",
        "      correct += (torch.argmax(pred,dim=1)==label).sum().item()\n",
        "    acc = correct/len(loader.dataset)\n",
        "    print(\"\\n Evaluation accuracy: {}\".format(acc))\n",
        "    return acc\n",
        "    \n",
        "trn_loss_hist, trn_acc_hist, val_acc_hist = train(model, trainloader, \n",
        "                                                  valloader, num_epoch)\n",
        "\n",
        "##############################################################################\n",
        "# TODO: Note down the evaluation accuracy on test set                        #\n",
        "##############################################################################\n",
        "print(\"\\n Evaluate on test set\")\n",
        "evaluate(model, testloader);"
      ],
      "execution_count": 6,
      "outputs": [
        {
          "output_type": "stream",
          "text": [
            "  0%|          | 1/1563 [00:00<03:01,  8.59it/s]"
          ],
          "name": "stderr"
        },
        {
          "output_type": "stream",
          "text": [
            "Start training...\n",
            "-----------------Epoch = 1-----------------\n"
          ],
          "name": "stdout"
        },
        {
          "output_type": "stream",
          "text": [
            "100%|██████████| 1563/1563 [00:10<00:00, 150.00it/s]\n",
            "  1%|          | 18/1563 [00:00<00:08, 174.42it/s]"
          ],
          "name": "stderr"
        },
        {
          "output_type": "stream",
          "text": [
            "\n",
            " Epoch 1 loss:0.7345890550375442\n"
          ],
          "name": "stdout"
        },
        {
          "output_type": "stream",
          "text": [
            "100%|██████████| 1563/1563 [00:08<00:00, 183.80it/s]\n",
            "  6%|▌         | 19/313 [00:00<00:01, 182.62it/s]"
          ],
          "name": "stderr"
        },
        {
          "output_type": "stream",
          "text": [
            "\n",
            " Evaluation accuracy: 0.76818\n",
            "\n",
            " Evaluate on validation set...\n"
          ],
          "name": "stdout"
        },
        {
          "output_type": "stream",
          "text": [
            "100%|██████████| 313/313 [00:01<00:00, 181.41it/s]\n",
            "  1%|          | 14/1563 [00:00<00:11, 138.85it/s]"
          ],
          "name": "stderr"
        },
        {
          "output_type": "stream",
          "text": [
            "\n",
            " Evaluation accuracy: 0.765\n",
            "-----------------Epoch = 2-----------------\n"
          ],
          "name": "stdout"
        },
        {
          "output_type": "stream",
          "text": [
            "100%|██████████| 1563/1563 [00:10<00:00, 148.52it/s]\n",
            "  1%|▏         | 20/1563 [00:00<00:07, 195.59it/s]"
          ],
          "name": "stderr"
        },
        {
          "output_type": "stream",
          "text": [
            "\n",
            " Epoch 2 loss:0.4365097058034828\n"
          ],
          "name": "stdout"
        },
        {
          "output_type": "stream",
          "text": [
            "100%|██████████| 1563/1563 [00:08<00:00, 185.67it/s]\n",
            "  6%|▋         | 20/313 [00:00<00:01, 195.52it/s]"
          ],
          "name": "stderr"
        },
        {
          "output_type": "stream",
          "text": [
            "\n",
            " Evaluation accuracy: 0.8636\n",
            "\n",
            " Evaluate on validation set...\n"
          ],
          "name": "stdout"
        },
        {
          "output_type": "stream",
          "text": [
            "100%|██████████| 313/313 [00:01<00:00, 179.88it/s]\n",
            "  1%|          | 17/1563 [00:00<00:09, 163.12it/s]"
          ],
          "name": "stderr"
        },
        {
          "output_type": "stream",
          "text": [
            "\n",
            " Evaluation accuracy: 0.8551\n",
            "-----------------Epoch = 3-----------------\n"
          ],
          "name": "stdout"
        },
        {
          "output_type": "stream",
          "text": [
            "100%|██████████| 1563/1563 [00:10<00:00, 150.54it/s]\n",
            "  1%|          | 19/1563 [00:00<00:08, 188.83it/s]"
          ],
          "name": "stderr"
        },
        {
          "output_type": "stream",
          "text": [
            "\n",
            " Epoch 3 loss:0.36947512414046607\n"
          ],
          "name": "stdout"
        },
        {
          "output_type": "stream",
          "text": [
            "100%|██████████| 1563/1563 [00:08<00:00, 185.15it/s]\n",
            "  6%|▌         | 19/313 [00:00<00:01, 185.10it/s]"
          ],
          "name": "stderr"
        },
        {
          "output_type": "stream",
          "text": [
            "\n",
            " Evaluation accuracy: 0.8615\n",
            "\n",
            " Evaluate on validation set...\n"
          ],
          "name": "stdout"
        },
        {
          "output_type": "stream",
          "text": [
            "100%|██████████| 313/313 [00:01<00:00, 182.52it/s]\n",
            "  1%|          | 16/1563 [00:00<00:10, 152.91it/s]"
          ],
          "name": "stderr"
        },
        {
          "output_type": "stream",
          "text": [
            "\n",
            " Evaluation accuracy: 0.8554\n",
            "-----------------Epoch = 4-----------------\n"
          ],
          "name": "stdout"
        },
        {
          "output_type": "stream",
          "text": [
            "100%|██████████| 1563/1563 [00:10<00:00, 153.63it/s]\n",
            "  1%|          | 19/1563 [00:00<00:08, 182.90it/s]"
          ],
          "name": "stderr"
        },
        {
          "output_type": "stream",
          "text": [
            "\n",
            " Epoch 4 loss:0.3313253710877033\n"
          ],
          "name": "stdout"
        },
        {
          "output_type": "stream",
          "text": [
            "100%|██████████| 1563/1563 [00:08<00:00, 186.47it/s]\n",
            "  6%|▌         | 19/313 [00:00<00:01, 184.80it/s]"
          ],
          "name": "stderr"
        },
        {
          "output_type": "stream",
          "text": [
            "\n",
            " Evaluation accuracy: 0.89112\n",
            "\n",
            " Evaluate on validation set...\n"
          ],
          "name": "stdout"
        },
        {
          "output_type": "stream",
          "text": [
            "100%|██████████| 313/313 [00:01<00:00, 186.14it/s]\n",
            "  1%|          | 16/1563 [00:00<00:09, 157.46it/s]"
          ],
          "name": "stderr"
        },
        {
          "output_type": "stream",
          "text": [
            "\n",
            " Evaluation accuracy: 0.8822\n",
            "-----------------Epoch = 5-----------------\n"
          ],
          "name": "stdout"
        },
        {
          "output_type": "stream",
          "text": [
            "100%|██████████| 1563/1563 [00:10<00:00, 148.76it/s]\n",
            "  1%|▏         | 20/1563 [00:00<00:07, 194.42it/s]"
          ],
          "name": "stderr"
        },
        {
          "output_type": "stream",
          "text": [
            "\n",
            " Epoch 5 loss:0.30638658804002666\n"
          ],
          "name": "stdout"
        },
        {
          "output_type": "stream",
          "text": [
            "100%|██████████| 1563/1563 [00:08<00:00, 181.09it/s]\n",
            "  6%|▌         | 19/313 [00:00<00:01, 189.59it/s]"
          ],
          "name": "stderr"
        },
        {
          "output_type": "stream",
          "text": [
            "\n",
            " Evaluation accuracy: 0.89746\n",
            "\n",
            " Evaluate on validation set...\n"
          ],
          "name": "stdout"
        },
        {
          "output_type": "stream",
          "text": [
            "100%|██████████| 313/313 [00:01<00:00, 181.92it/s]\n",
            "  1%|          | 16/1563 [00:00<00:09, 158.05it/s]"
          ],
          "name": "stderr"
        },
        {
          "output_type": "stream",
          "text": [
            "\n",
            " Evaluation accuracy: 0.8902\n",
            "-----------------Epoch = 6-----------------\n"
          ],
          "name": "stdout"
        },
        {
          "output_type": "stream",
          "text": [
            "100%|██████████| 1563/1563 [00:10<00:00, 150.30it/s]\n",
            "  1%|          | 18/1563 [00:00<00:08, 176.51it/s]"
          ],
          "name": "stderr"
        },
        {
          "output_type": "stream",
          "text": [
            "\n",
            " Epoch 6 loss:0.2850091132077359\n"
          ],
          "name": "stdout"
        },
        {
          "output_type": "stream",
          "text": [
            "100%|██████████| 1563/1563 [00:08<00:00, 182.55it/s]\n",
            "  5%|▍         | 15/313 [00:00<00:02, 148.45it/s]"
          ],
          "name": "stderr"
        },
        {
          "output_type": "stream",
          "text": [
            "\n",
            " Evaluation accuracy: 0.90362\n",
            "\n",
            " Evaluate on validation set...\n"
          ],
          "name": "stdout"
        },
        {
          "output_type": "stream",
          "text": [
            "100%|██████████| 313/313 [00:01<00:00, 176.52it/s]\n",
            "  1%|          | 15/1563 [00:00<00:10, 145.38it/s]"
          ],
          "name": "stderr"
        },
        {
          "output_type": "stream",
          "text": [
            "\n",
            " Evaluation accuracy: 0.8942\n",
            "-----------------Epoch = 7-----------------\n"
          ],
          "name": "stdout"
        },
        {
          "output_type": "stream",
          "text": [
            "100%|██████████| 1563/1563 [00:10<00:00, 150.41it/s]\n",
            "  1%|          | 18/1563 [00:00<00:09, 170.75it/s]"
          ],
          "name": "stderr"
        },
        {
          "output_type": "stream",
          "text": [
            "\n",
            " Epoch 7 loss:0.26949207482100374\n"
          ],
          "name": "stdout"
        },
        {
          "output_type": "stream",
          "text": [
            "100%|██████████| 1563/1563 [00:08<00:00, 180.81it/s]\n",
            "  6%|▌         | 19/313 [00:00<00:01, 183.67it/s]"
          ],
          "name": "stderr"
        },
        {
          "output_type": "stream",
          "text": [
            "\n",
            " Evaluation accuracy: 0.90744\n",
            "\n",
            " Evaluate on validation set...\n"
          ],
          "name": "stdout"
        },
        {
          "output_type": "stream",
          "text": [
            "100%|██████████| 313/313 [00:01<00:00, 177.95it/s]\n",
            "  1%|          | 16/1563 [00:00<00:10, 153.12it/s]"
          ],
          "name": "stderr"
        },
        {
          "output_type": "stream",
          "text": [
            "\n",
            " Evaluation accuracy: 0.8931\n",
            "-----------------Epoch = 8-----------------\n"
          ],
          "name": "stdout"
        },
        {
          "output_type": "stream",
          "text": [
            "100%|██████████| 1563/1563 [00:10<00:00, 148.53it/s]\n",
            "  1%|          | 18/1563 [00:00<00:08, 179.36it/s]"
          ],
          "name": "stderr"
        },
        {
          "output_type": "stream",
          "text": [
            "\n",
            " Epoch 8 loss:0.25503839141262014\n"
          ],
          "name": "stdout"
        },
        {
          "output_type": "stream",
          "text": [
            "100%|██████████| 1563/1563 [00:08<00:00, 178.09it/s]\n",
            "  6%|▌         | 19/313 [00:00<00:01, 188.86it/s]"
          ],
          "name": "stderr"
        },
        {
          "output_type": "stream",
          "text": [
            "\n",
            " Evaluation accuracy: 0.90566\n",
            "\n",
            " Evaluate on validation set...\n"
          ],
          "name": "stdout"
        },
        {
          "output_type": "stream",
          "text": [
            "100%|██████████| 313/313 [00:01<00:00, 177.26it/s]\n",
            "  1%|          | 14/1563 [00:00<00:11, 134.00it/s]"
          ],
          "name": "stderr"
        },
        {
          "output_type": "stream",
          "text": [
            "\n",
            " Evaluation accuracy: 0.892\n",
            "-----------------Epoch = 9-----------------\n"
          ],
          "name": "stdout"
        },
        {
          "output_type": "stream",
          "text": [
            "100%|██████████| 1563/1563 [00:10<00:00, 147.87it/s]\n",
            "  1%|          | 18/1563 [00:00<00:08, 174.78it/s]"
          ],
          "name": "stderr"
        },
        {
          "output_type": "stream",
          "text": [
            "\n",
            " Epoch 9 loss:0.24289589765423852\n"
          ],
          "name": "stdout"
        },
        {
          "output_type": "stream",
          "text": [
            "100%|██████████| 1563/1563 [00:08<00:00, 177.29it/s]\n",
            "  6%|▌         | 19/313 [00:00<00:01, 182.45it/s]"
          ],
          "name": "stderr"
        },
        {
          "output_type": "stream",
          "text": [
            "\n",
            " Evaluation accuracy: 0.91122\n",
            "\n",
            " Evaluate on validation set...\n"
          ],
          "name": "stdout"
        },
        {
          "output_type": "stream",
          "text": [
            "100%|██████████| 313/313 [00:01<00:00, 179.47it/s]\n",
            "  1%|          | 13/1563 [00:00<00:12, 128.78it/s]"
          ],
          "name": "stderr"
        },
        {
          "output_type": "stream",
          "text": [
            "\n",
            " Evaluation accuracy: 0.8942\n",
            "-----------------Epoch = 10-----------------\n"
          ],
          "name": "stdout"
        },
        {
          "output_type": "stream",
          "text": [
            "100%|██████████| 1563/1563 [00:10<00:00, 147.99it/s]\n",
            "  1%|          | 18/1563 [00:00<00:08, 173.79it/s]"
          ],
          "name": "stderr"
        },
        {
          "output_type": "stream",
          "text": [
            "\n",
            " Epoch 10 loss:0.23357488641840712\n"
          ],
          "name": "stdout"
        },
        {
          "output_type": "stream",
          "text": [
            "100%|██████████| 1563/1563 [00:08<00:00, 180.29it/s]\n",
            "  6%|▋         | 20/313 [00:00<00:01, 192.54it/s]"
          ],
          "name": "stderr"
        },
        {
          "output_type": "stream",
          "text": [
            "\n",
            " Evaluation accuracy: 0.90028\n",
            "\n",
            " Evaluate on validation set...\n"
          ],
          "name": "stdout"
        },
        {
          "output_type": "stream",
          "text": [
            "100%|██████████| 313/313 [00:01<00:00, 175.37it/s]\n",
            "  1%|          | 16/1563 [00:00<00:10, 153.04it/s]"
          ],
          "name": "stderr"
        },
        {
          "output_type": "stream",
          "text": [
            "\n",
            " Evaluation accuracy: 0.8841\n",
            "-----------------Epoch = 11-----------------\n"
          ],
          "name": "stdout"
        },
        {
          "output_type": "stream",
          "text": [
            "100%|██████████| 1563/1563 [00:10<00:00, 149.10it/s]\n",
            "  1%|          | 17/1563 [00:00<00:09, 167.03it/s]"
          ],
          "name": "stderr"
        },
        {
          "output_type": "stream",
          "text": [
            "\n",
            " Epoch 11 loss:0.22240366131992045\n"
          ],
          "name": "stdout"
        },
        {
          "output_type": "stream",
          "text": [
            "100%|██████████| 1563/1563 [00:08<00:00, 177.39it/s]\n",
            "  6%|▋         | 20/313 [00:00<00:01, 196.24it/s]"
          ],
          "name": "stderr"
        },
        {
          "output_type": "stream",
          "text": [
            "\n",
            " Evaluation accuracy: 0.92334\n",
            "\n",
            " Evaluate on validation set...\n"
          ],
          "name": "stdout"
        },
        {
          "output_type": "stream",
          "text": [
            "100%|██████████| 313/313 [00:01<00:00, 180.50it/s]\n",
            "  1%|          | 15/1563 [00:00<00:10, 149.28it/s]"
          ],
          "name": "stderr"
        },
        {
          "output_type": "stream",
          "text": [
            "\n",
            " Evaluation accuracy: 0.908\n",
            "-----------------Epoch = 12-----------------\n"
          ],
          "name": "stdout"
        },
        {
          "output_type": "stream",
          "text": [
            "100%|██████████| 1563/1563 [00:10<00:00, 149.98it/s]\n",
            "  1%|          | 18/1563 [00:00<00:08, 175.16it/s]"
          ],
          "name": "stderr"
        },
        {
          "output_type": "stream",
          "text": [
            "\n",
            " Epoch 12 loss:0.21291133590037825\n"
          ],
          "name": "stdout"
        },
        {
          "output_type": "stream",
          "text": [
            "100%|██████████| 1563/1563 [00:08<00:00, 179.45it/s]\n",
            "  6%|▌         | 19/313 [00:00<00:01, 187.74it/s]"
          ],
          "name": "stderr"
        },
        {
          "output_type": "stream",
          "text": [
            "\n",
            " Evaluation accuracy: 0.92776\n",
            "\n",
            " Evaluate on validation set...\n"
          ],
          "name": "stdout"
        },
        {
          "output_type": "stream",
          "text": [
            "100%|██████████| 313/313 [00:01<00:00, 179.52it/s]\n",
            "  6%|▋         | 20/313 [00:00<00:01, 192.60it/s]"
          ],
          "name": "stderr"
        },
        {
          "output_type": "stream",
          "text": [
            "\n",
            " Evaluation accuracy: 0.908\n",
            "Done!\n",
            "\n",
            " Evaluate on test set\n"
          ],
          "name": "stdout"
        },
        {
          "output_type": "stream",
          "text": [
            "100%|██████████| 313/313 [00:01<00:00, 183.72it/s]"
          ],
          "name": "stderr"
        },
        {
          "output_type": "stream",
          "text": [
            "\n",
            " Evaluation accuracy: 0.9026\n",
            "CPU times: user 4min, sys: 9.17 s, total: 4min 9s\n",
            "Wall time: 4min 11s\n"
          ],
          "name": "stdout"
        },
        {
          "output_type": "stream",
          "text": [
            "\n"
          ],
          "name": "stderr"
        }
      ]
    },
    {
      "cell_type": "markdown",
      "metadata": {
        "id": "kwDhwaydQR1Q"
      },
      "source": [
        "Once your training is complete, run the cell below to visualize the training and validation accuracies across iterations."
      ]
    },
    {
      "cell_type": "code",
      "metadata": {
        "id": "1lYqngdtPQB8",
        "colab": {
          "base_uri": "https://localhost:8080/",
          "height": 350
        },
        "outputId": "12db85e7-5d75-4b7d-ff2c-2b6b8d1521ef"
      },
      "source": [
        "##############################################################################\n",
        "# TODO: Submit the accuracy plot                                             #\n",
        "##############################################################################\n",
        "# visualize the training / validation accuracies\n",
        "x = np.arange(num_epoch)\n",
        "# train/val accuracies for MiniVGG\n",
        "plt.figure()\n",
        "plt.plot(x, trn_acc_hist)\n",
        "plt.plot(x, val_acc_hist)\n",
        "plt.legend(['Training', 'Validation'])\n",
        "plt.xticks(x)\n",
        "plt.xlabel('Epoch')\n",
        "plt.ylabel('Accuracy')\n",
        "plt.title('fashion MNIST Classification')\n",
        "plt.gcf().set_size_inches(10, 5)\n",
        "plt.show()"
      ],
      "execution_count": 7,
      "outputs": [
        {
          "output_type": "display_data",
          "data": {
            "image/png": "[encoded data removed]",
            "text/plain": [
              "<Figure size 720x360 with 1 Axes>"
            ]
          },
          "metadata": {
            "tags": [],
            "needs_background": "light"
          }
        }
      ]
    }
  ]
}